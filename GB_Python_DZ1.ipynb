{
 "cells": [
  {
   "cell_type": "markdown",
   "id": "c84d4f5d",
   "metadata": {},
   "source": [
    "# GB_Python_DZ1"
   ]
  },
  {
   "cell_type": "markdown",
   "id": "2a459389",
   "metadata": {},
   "source": [
    "1. Поработайте с переменными, создайте несколько, выведите на экран. \n",
    "Запросите у пользователя некоторые числа и строки и сохраните в переменные, затем выведите на экран."
   ]
  },
  {
   "cell_type": "code",
   "execution_count": 6,
   "id": "51495a77",
   "metadata": {
    "ExecuteTime": {
     "end_time": "2022-10-14T09:40:06.966002Z",
     "start_time": "2022-10-14T09:39:38.980686Z"
    }
   },
   "outputs": [
    {
     "name": "stdout",
     "output_type": "stream",
     "text": [
      "Enter the variables separated by commas:  1,2,Слон,mouse\n",
      "1\n",
      "2\n",
      "Слон\n",
      "mouse\n"
     ]
    }
   ],
   "source": [
    "a = input('Enter the variables separated by commas:  ',)\n",
    "b = a.split(sep=',')\n",
    "for i in b:\n",
    "    print(i)"
   ]
  },
  {
   "cell_type": "markdown",
   "id": "243bf428",
   "metadata": {},
   "source": [
    "2. Пользователь вводит время в секундах. Переведите время в часы, минуты, секунды и\n",
    "выведите в формате чч:мм:сс. Используйте форматирование строк"
   ]
  },
  {
   "cell_type": "code",
   "execution_count": 2,
   "id": "0b1a6a43",
   "metadata": {
    "ExecuteTime": {
     "end_time": "2022-10-14T09:37:58.414191Z",
     "start_time": "2022-10-14T09:37:23.946194Z"
    }
   },
   "outputs": [
    {
     "name": "stdout",
     "output_type": "stream",
     "text": [
      "Enter the time in seconds: 37569\n",
      "hh:10 min:26 sec:9\n"
     ]
    }
   ],
   "source": [
    "s = int(input('Enter the time in seconds: ',))\n",
    "hh = s // 3600\n",
    "mm = (s % 3600) // 60\n",
    "ss = (s % 3600) % 60\n",
    "#  print('h = ',hh)\n",
    "#  print('min = ',mm)\n",
    "#  print('sec = ',ss)\n",
    "print(f\"hh:{hh} min:{mm} sec:{ss}\")"
   ]
  },
  {
   "cell_type": "markdown",
   "id": "d51ad322",
   "metadata": {},
   "source": [
    "3. Узнайте у пользователя число n. Найдите сумму чисел n + nn + nnn. Например, пользователь ввёл число 3. Считаем 3 + 33 + 333 = 369."
   ]
  },
  {
   "cell_type": "code",
   "execution_count": 3,
   "id": "ed8c3ae8",
   "metadata": {
    "ExecuteTime": {
     "end_time": "2022-10-14T09:38:31.606877Z",
     "start_time": "2022-10-14T09:37:58.420033Z"
    }
   },
   "outputs": [
    {
     "name": "stdout",
     "output_type": "stream",
     "text": [
      "Enter  a number from 0 to 9: 5\n",
      "615\n"
     ]
    }
   ],
   "source": [
    "a = input('Enter  a number from 0 to 9: ',)\n",
    "b = int(a + a)\n",
    "c = int(a + a + a)\n",
    "print(int(a) + b + c)"
   ]
  },
  {
   "cell_type": "markdown",
   "id": "088f2fd7",
   "metadata": {},
   "source": [
    "4. Пользователь вводит целое положительное число. Найдите самую большую цифру в числе. Для решения используйте цикл while и арифметические операции."
   ]
  },
  {
   "cell_type": "code",
   "execution_count": 4,
   "id": "42d5df14",
   "metadata": {
    "ExecuteTime": {
     "end_time": "2022-10-14T09:38:53.708822Z",
     "start_time": "2022-10-14T09:38:31.612602Z"
    }
   },
   "outputs": [
    {
     "name": "stdout",
     "output_type": "stream",
     "text": [
      "Enter  a number: 12845967\n",
      "Наибольший элемент -  9 [ 5 ]\n"
     ]
    }
   ],
   "source": [
    "x = input('Enter  a number: ',)\n",
    "i = 0\n",
    "y = 0\n",
    "while i < len(x):\n",
    "   \n",
    "    if y <= int(x[i]):\n",
    "        y = int(x[i])\n",
    "        n = i\n",
    "        i = i + 1\n",
    "    else:\n",
    "        i = i + 1\n",
    "print('Наибольший элемент - ',y,'[',n,']')\n",
    "    "
   ]
  },
  {
   "cell_type": "markdown",
   "id": "c8ba276d",
   "metadata": {},
   "source": [
    "5. Запросите у пользователя значения выручки и издержек фирмы. Определите, с каким финансовым результатом работает фирма. Например, прибыль — выручка больше издержек, или убыток — издержки больше выручки. Выведите соответствующее сообщение."
   ]
  },
  {
   "cell_type": "code",
   "execution_count": 29,
   "id": "f5f6b671",
   "metadata": {
    "ExecuteTime": {
     "end_time": "2022-10-14T10:27:17.677455Z",
     "start_time": "2022-10-14T10:27:07.110733Z"
    }
   },
   "outputs": [
    {
     "name": "stdout",
     "output_type": "stream",
     "text": [
      "Enter your revenue: 10000\n",
      "Enter your expenses: 7800\n",
      "Profit : 2200\n"
     ]
    }
   ],
   "source": [
    "revenue = int(input('Enter your revenue: ',))\n",
    "costs = int(input('Enter your expenses: ',))\n",
    "if revenue > costs:\n",
    "    print('Profit :', revenue - costs)\n",
    "else: print('loss :', revenue - costs)"
   ]
  },
  {
   "cell_type": "markdown",
   "id": "a5f6ca71",
   "metadata": {},
   "source": [
    "6. Если фирма отработала с прибылью, вычислите рентабельность выручки. Это отношение прибыли к выручке. Далее запросите численность сотрудников фирмы и определите прибыль фирмы в расчёте на одного сотрудника."
   ]
  },
  {
   "cell_type": "code",
   "execution_count": 30,
   "id": "9c6bb2ea",
   "metadata": {
    "ExecuteTime": {
     "end_time": "2022-10-14T10:27:25.412382Z",
     "start_time": "2022-10-14T10:27:22.537785Z"
    }
   },
   "outputs": [
    {
     "name": "stdout",
     "output_type": "stream",
     "text": [
      "Enter lnumber of workers: 4\n",
      "Unit profit:  550.0\n"
     ]
    }
   ],
   "source": [
    "workers = int(input('Enter lnumber of workers: ',))\n",
    "if revenue - costs > 0:\n",
    "    print('Unit profit: ', (revenue - costs) / workers)\n",
    "else: \n",
    "    print('without profit !!!')"
   ]
  },
  {
   "cell_type": "markdown",
   "id": "b0c30575",
   "metadata": {},
   "source": [
    "7. Спортсмен занимается ежедневными пробежками. В первый день его результат составил a километров. Каждый день спортсмен увеличивал результат на 10% относительно предыдущего. Требуется определить номер дня, на который результат спортсмена составит не менее b километров. Программа должна принимать значения параметров a и b и выводить одно натуральное число — номер дня."
   ]
  },
  {
   "cell_type": "code",
   "execution_count": 94,
   "id": "de3b699f",
   "metadata": {
    "ExecuteTime": {
     "end_time": "2022-10-14T12:35:03.879765Z",
     "start_time": "2022-10-14T12:34:49.362594Z"
    }
   },
   "outputs": [
    {
     "name": "stdout",
     "output_type": "stream",
     "text": [
      "Enter daily mileage: 7\n",
      "Enter required distance: 8.6\n",
      "№days: 4, Daily mileage: 9.317\n"
     ]
    }
   ],
   "source": [
    "a = float(input('Enter daily mileage: ',))\n",
    "b =  float(input('Enter required distance: ',))\n",
    "k = 0.1\n",
    "i = 1\n",
    "\n",
    "while a <= b:\n",
    "    a = a + a * k\n",
    "    i = i + 1\n",
    "print(f\"№days: {i}, Daily mileage: {round(a, 3)}\")    "
   ]
  },
  {
   "cell_type": "code",
   "execution_count": 82,
   "id": "c7586d5d",
   "metadata": {
    "ExecuteTime": {
     "end_time": "2022-10-14T12:18:53.012559Z",
     "start_time": "2022-10-14T12:18:53.003537Z"
    }
   },
   "outputs": [
    {
     "name": "stdout",
     "output_type": "stream",
     "text": [
      "0   2.0\n",
      "1   2.2\n",
      "2   2.4200000000000004\n",
      "3   2.662000000000001\n",
      "4   2.928200000000001\n",
      "5   3.221020000000001\n",
      "6   3.5431220000000017\n",
      "7   3.8974342000000024\n",
      "8   4.287177620000003\n",
      "9   4.715895382000004\n",
      "10   5.187484920200005\n"
     ]
    }
   ],
   "source": [
    "for i in range(11):\n",
    "    \n",
    "    print(i,\" \", 2 * 1.1**i)  # почему-то не работает в предыдущей задаче!!!"
   ]
  },
  {
   "cell_type": "markdown",
   "id": "f97440a2",
   "metadata": {},
   "source": [
    "## Форматирование через оператор %"
   ]
  },
  {
   "cell_type": "code",
   "execution_count": 7,
   "id": "d6675a36",
   "metadata": {
    "ExecuteTime": {
     "end_time": "2022-10-14T09:40:44.414115Z",
     "start_time": "2022-10-14T09:40:25.821029Z"
    }
   },
   "outputs": [
    {
     "name": "stdout",
     "output_type": "stream",
     "text": [
      "Enter your name: Vasiliy\n",
      "Hello, Vasiliy!\n"
     ]
    }
   ],
   "source": [
    "name = input(\"Enter your name: \")\n",
    "print(\"Hello, %s!\" % name)"
   ]
  },
  {
   "cell_type": "markdown",
   "id": "8d994237",
   "metadata": {},
   "source": [
    "Выравнивание:"
   ]
  },
  {
   "cell_type": "code",
   "execution_count": 8,
   "id": "09df6a11",
   "metadata": {
    "ExecuteTime": {
     "end_time": "2022-10-14T09:40:51.263188Z",
     "start_time": "2022-10-14T09:40:51.241130Z"
    }
   },
   "outputs": [
    {
     "name": "stdout",
     "output_type": "stream",
     "text": [
      "papam1     papam2     papam3    \n"
     ]
    }
   ],
   "source": [
    "print(\"%-10s %-10s %-10s\" % ('papam1', 'papam2', 'papam3'))\n"
   ]
  },
  {
   "cell_type": "markdown",
   "id": "f7fa52e3",
   "metadata": {},
   "source": [
    "Указание количества цифр после запятой.\n"
   ]
  },
  {
   "cell_type": "code",
   "execution_count": 9,
   "id": "7669d621",
   "metadata": {
    "ExecuteTime": {
     "end_time": "2022-10-14T09:41:03.797633Z",
     "start_time": "2022-10-14T09:41:03.784712Z"
    }
   },
   "outputs": [
    {
     "name": "stdout",
     "output_type": "stream",
     "text": [
      "2.50\n"
     ]
    }
   ],
   "source": [
    "print(\"%.2f\" % (20.0/8))\n"
   ]
  },
  {
   "cell_type": "markdown",
   "id": "22b0c7cf",
   "metadata": {},
   "source": [
    "Значения в подстановке могут различаться по типу. В примерах выше мы подставляли значения строкового типа (%s), но можно выполнять и другие подстановки."
   ]
  },
  {
   "cell_type": "markdown",
   "id": "a8890fb1",
   "metadata": {},
   "source": [
    "## Форматирование через метод format()"
   ]
  },
  {
   "cell_type": "markdown",
   "id": "bb8a8ba9",
   "metadata": {},
   "source": [
    "Используется специальный символ {} для указания точки подстановки значения, передаваемого методу format. Каждая пара скобок определяет одно место для подстановки."
   ]
  },
  {
   "cell_type": "code",
   "execution_count": 10,
   "id": "780e05e0",
   "metadata": {
    "ExecuteTime": {
     "end_time": "2022-10-14T09:41:23.517615Z",
     "start_time": "2022-10-14T09:41:23.504726Z"
    }
   },
   "outputs": [
    {
     "name": "stdout",
     "output_type": "stream",
     "text": [
      "['el_1', 'el_2', 'el_3', 'el_4']\n"
     ]
    }
   ],
   "source": [
    "print('{}'.format(['el_1', 'el_2', 'el_3', 'el_4']))"
   ]
  },
  {
   "cell_type": "markdown",
   "id": "3b792f19",
   "metadata": {},
   "source": [
    "Вывод данных столбцами одинаковой ширины по 20 символов с выравниванием по правой стороне"
   ]
  },
  {
   "cell_type": "code",
   "execution_count": 11,
   "id": "8aeb4a6e",
   "metadata": {
    "ExecuteTime": {
     "end_time": "2022-10-14T09:41:28.176157Z",
     "start_time": "2022-10-14T09:41:28.168072Z"
    }
   },
   "outputs": [
    {
     "name": "stdout",
     "output_type": "stream",
     "text": [
      "          my_param_1           my_param_2           my_param_3\n"
     ]
    }
   ],
   "source": [
    "print(\"{:>20} {:>20} {:>20}\".format('my_param_1', 'my_param_2', 'my_param_3'))\n"
   ]
  },
  {
   "cell_type": "markdown",
   "id": "6786e7eb",
   "metadata": {},
   "source": [
    "Указание количества цифр после запятой.\n"
   ]
  },
  {
   "cell_type": "code",
   "execution_count": 12,
   "id": "56a4d457",
   "metadata": {
    "ExecuteTime": {
     "end_time": "2022-10-14T09:42:13.875359Z",
     "start_time": "2022-10-14T09:42:13.859332Z"
    }
   },
   "outputs": [
    {
     "name": "stdout",
     "output_type": "stream",
     "text": [
      "1.667\n"
     ]
    }
   ],
   "source": [
    "print(\"{:.3f}\".format(5.0/3))\n"
   ]
  },
  {
   "cell_type": "markdown",
   "id": "62b5bb70",
   "metadata": {},
   "source": [
    "Передать параметры можно и через указание их индексов в фигурных скобках:"
   ]
  },
  {
   "cell_type": "code",
   "execution_count": 13,
   "id": "a62e867e",
   "metadata": {
    "ExecuteTime": {
     "end_time": "2022-10-14T09:42:27.937867Z",
     "start_time": "2022-10-14T09:42:27.916543Z"
    }
   },
   "outputs": [
    {
     "name": "stdout",
     "output_type": "stream",
     "text": [
      "Третий элемент: el_3; Второй элемент: el_2; Первый элемент:el_1\n"
     ]
    }
   ],
   "source": [
    "print('Третий элемент: {2}; Второй элемент: {1}; Первый элемент:{0}'.format(\n",
    "    'el_1', 'el_2', 'el_3'))"
   ]
  },
  {
   "cell_type": "markdown",
   "id": "962c0c87",
   "metadata": {},
   "source": [
    "## Форматирование через f-строки"
   ]
  },
  {
   "cell_type": "markdown",
   "id": "d249127b",
   "metadata": {},
   "source": [
    "f-строки — механизм форматирования строки с префиксом f. Внутри f-строки в паре фигурных скобок\n",
    "указываются имена переменных, которые необходимо подставить. Информация об f-строках доступна\n",
    "по ссылке.\n"
   ]
  },
  {
   "cell_type": "code",
   "execution_count": 14,
   "id": "c5b490a1",
   "metadata": {
    "ExecuteTime": {
     "end_time": "2022-10-14T09:42:53.256984Z",
     "start_time": "2022-10-14T09:42:53.246567Z"
    }
   },
   "outputs": [
    {
     "name": "stdout",
     "output_type": "stream",
     "text": [
      "ip-params: 192.168.1.4, mask: 10\n"
     ]
    }
   ],
   "source": [
    "ip = '192.168.1.4'\n",
    "mask = 10\n",
    "print(f\"ip-params: {ip}, mask: {mask}\")"
   ]
  },
  {
   "cell_type": "markdown",
   "id": "704e4cda",
   "metadata": {},
   "source": [
    "Помимо подстановки значений переменных, в фигурных скобках допустимо применить выражение:"
   ]
  },
  {
   "cell_type": "code",
   "execution_count": 15,
   "id": "62fd8e46",
   "metadata": {
    "ExecuteTime": {
     "end_time": "2022-10-14T09:43:06.319133Z",
     "start_time": "2022-10-14T09:43:06.300723Z"
    }
   },
   "outputs": [
    {
     "name": "stdout",
     "output_type": "stream",
     "text": [
      "ip-params: 10.1.1.1, mask: 10\n"
     ]
    }
   ],
   "source": [
    "octets = ['10', '1', '1', '1']\n",
    "mask = 10\n",
    "print(f\"ip-params: {'.'.join(octets)}, mask: {mask}\")\n"
   ]
  },
  {
   "cell_type": "markdown",
   "id": "66a4bff1",
   "metadata": {},
   "source": [
    "Через f-строки также возможен вывод столбцами с одинаковым расстоянием между ними:\n"
   ]
  },
  {
   "cell_type": "code",
   "execution_count": 16,
   "id": "e0597c68",
   "metadata": {
    "ExecuteTime": {
     "end_time": "2022-10-14T09:43:34.355711Z",
     "start_time": "2022-10-14T09:43:34.332791Z"
    }
   },
   "outputs": [
    {
     "name": "stdout",
     "output_type": "stream",
     "text": [
      "IP address: 10       1        1        1       \n"
     ]
    }
   ],
   "source": [
    "oct1, oct2, oct3, oct4 = [10, 1, 1, 1]\n",
    "print(f'''IP address: {oct1:<8} {oct2:<8} {oct3:<8} {oct4:<8}''')"
   ]
  },
  {
   "cell_type": "code",
   "execution_count": 17,
   "id": "9b6e85de",
   "metadata": {
    "ExecuteTime": {
     "end_time": "2022-10-14T09:43:38.437961Z",
     "start_time": "2022-10-14T09:43:38.417494Z"
    }
   },
   "outputs": [
    {
     "name": "stdout",
     "output_type": "stream",
     "text": [
      "Все верно\n",
      "Работа программы завершена\n"
     ]
    }
   ],
   "source": [
    "my_var = True\n",
    "if my_var == True:\n",
    "    print(\"Все верно\")\n",
    "    print(\"Работа программы завершена\")"
   ]
  },
  {
   "cell_type": "code",
   "execution_count": 18,
   "id": "d3d143a3",
   "metadata": {
    "ExecuteTime": {
     "end_time": "2022-10-14T09:43:47.157673Z",
     "start_time": "2022-10-14T09:43:47.133683Z"
    }
   },
   "outputs": [
    {
     "name": "stdout",
     "output_type": "stream",
     "text": [
      "11\n"
     ]
    }
   ],
   "source": [
    "def my_func(my_var):\n",
    "    my_var += 1\n",
    "    print(my_var)\n",
    "my_var = 10\n",
    "my_func(my_var)"
   ]
  },
  {
   "cell_type": "code",
   "execution_count": 19,
   "id": "71da43d2",
   "metadata": {
    "ExecuteTime": {
     "end_time": "2022-10-14T09:44:00.237141Z",
     "start_time": "2022-10-14T09:44:00.221002Z"
    }
   },
   "outputs": [
    {
     "name": "stdout",
     "output_type": "stream",
     "text": [
      "False\n",
      "None\n",
      "True\n",
      "__peg_parser__\n",
      "and\n",
      "as\n",
      "assert\n",
      "async\n",
      "await\n",
      "break\n",
      "class\n",
      "continue\n",
      "def\n",
      "del\n",
      "elif\n",
      "else\n",
      "except\n",
      "finally\n",
      "for\n",
      "from\n",
      "global\n",
      "if\n",
      "import\n",
      "in\n",
      "is\n",
      "lambda\n",
      "nonlocal\n",
      "not\n",
      "or\n",
      "pass\n",
      "raise\n",
      "return\n",
      "try\n",
      "while\n",
      "with\n",
      "yield\n"
     ]
    }
   ],
   "source": [
    "from keyword import kwlist\n",
    "for i in kwlist:\n",
    "    print(i)\n"
   ]
  },
  {
   "cell_type": "code",
   "execution_count": null,
   "id": "b2e47e5e",
   "metadata": {
    "ExecuteTime": {
     "end_time": "2022-10-14T09:39:30.163847Z",
     "start_time": "2022-10-14T09:39:30.163847Z"
    }
   },
   "outputs": [],
   "source": []
  },
  {
   "cell_type": "code",
   "execution_count": null,
   "id": "f77e6df0",
   "metadata": {},
   "outputs": [],
   "source": []
  }
 ],
 "metadata": {
  "kernelspec": {
   "display_name": "Python 3 (ipykernel)",
   "language": "python",
   "name": "python3"
  },
  "language_info": {
   "codemirror_mode": {
    "name": "ipython",
    "version": 3
   },
   "file_extension": ".py",
   "mimetype": "text/x-python",
   "name": "python",
   "nbconvert_exporter": "python",
   "pygments_lexer": "ipython3",
   "version": "3.9.12"
  },
  "varInspector": {
   "cols": {
    "lenName": 16,
    "lenType": 16,
    "lenVar": 40
   },
   "kernels_config": {
    "python": {
     "delete_cmd_postfix": "",
     "delete_cmd_prefix": "del ",
     "library": "var_list.py",
     "varRefreshCmd": "print(var_dic_list())"
    },
    "r": {
     "delete_cmd_postfix": ") ",
     "delete_cmd_prefix": "rm(",
     "library": "var_list.r",
     "varRefreshCmd": "cat(var_dic_list()) "
    }
   },
   "types_to_exclude": [
    "module",
    "function",
    "builtin_function_or_method",
    "instance",
    "_Feature"
   ],
   "window_display": false
  }
 },
 "nbformat": 4,
 "nbformat_minor": 5
}
