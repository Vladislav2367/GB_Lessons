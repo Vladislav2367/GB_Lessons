{
 "cells": [
  {
   "cell_type": "markdown",
   "id": "94bd6ffa",
   "metadata": {},
   "source": [
    "# GB_Python_DZ2"
   ]
  },
  {
   "cell_type": "markdown",
   "id": "2d3e406c",
   "metadata": {},
   "source": [
    "1. Создать список и заполнить его элементами различных типов данных. Реализовать скрипт проверки типа данных каждого элемента. Использовать функцию type() для проверки типа. Элементы списка можно не запрашивать у пользователя, а указать явно, в программе."
   ]
  },
  {
   "cell_type": "code",
   "execution_count": 5,
   "id": "105db81e",
   "metadata": {
    "ExecuteTime": {
     "end_time": "2022-10-17T17:51:08.347075Z",
     "start_time": "2022-10-17T17:51:08.331542Z"
    }
   },
   "outputs": [
    {
     "name": "stdout",
     "output_type": "stream",
     "text": [
      "1: - <class 'int'>\n",
      "True: - <class 'bool'>\n",
      "qwerty: - <class 'str'>\n",
      "2.5: - <class 'float'>\n",
      "None: - <class 'NoneType'>\n"
     ]
    }
   ],
   "source": [
    "myList = [1, True, 'qwerty', 2.5, None]\n",
    "for i in myList:\n",
    "     print(f\"{i}: - {type(i)}\")"
   ]
  },
  {
   "cell_type": "markdown",
   "id": "b35bb087",
   "metadata": {},
   "source": [
    "2. Для списка реализовать обмен значений соседних элементов. Значениями обмениваются элементы с индексами 0 и 1, 2 и 3 и т. д. При нечётном количестве элементов последний сохранить на своём месте. Для заполнения списка элементов нужно использовать функцию input()."
   ]
  },
  {
   "cell_type": "code",
   "execution_count": 6,
   "id": "35575e7f",
   "metadata": {
    "ExecuteTime": {
     "end_time": "2022-10-17T17:51:51.368823Z",
     "start_time": "2022-10-17T17:51:16.975003Z"
    }
   },
   "outputs": [
    {
     "name": "stdout",
     "output_type": "stream",
     "text": [
      "Enter the list separated by commas1,2,3,4,5,6,7\n",
      "['1', '2', '3', '4', '5', '6', '7']\n"
     ]
    }
   ],
   "source": [
    "myList1 = list(input('Enter the list separated by commas',).split(','))\n",
    "print(myList1)"
   ]
  },
  {
   "cell_type": "code",
   "execution_count": 7,
   "id": "cd2f69f5",
   "metadata": {
    "ExecuteTime": {
     "end_time": "2022-10-17T17:51:51.438127Z",
     "start_time": "2022-10-17T17:51:51.423407Z"
    }
   },
   "outputs": [
    {
     "name": "stdout",
     "output_type": "stream",
     "text": [
      "['2', '1', '4', '3', '6', '5', '7']\n"
     ]
    }
   ],
   "source": [
    "a = myList1.copy()\n",
    "b = 0\n",
    "for i in range(len(a)):\n",
    "    b +=1\n",
    "    if b % 2 == 0:\n",
    "        n = a[i]\n",
    "        k = a[i - 1]\n",
    "        \n",
    "        a[i - 1] = n\n",
    "        a[i] = k\n",
    "        \n",
    "print(a)"
   ]
  },
  {
   "cell_type": "markdown",
   "id": "6ebf279a",
   "metadata": {},
   "source": [
    "3. Пользователь вводит месяц в виде целого числа от 1 до 12. Сообщить, к какому времени года относится месяц (зима, весна, лето, осень). Напишите решения через list и dict."
   ]
  },
  {
   "cell_type": "code",
   "execution_count": 8,
   "id": "4fd0a78e",
   "metadata": {
    "ExecuteTime": {
     "end_time": "2022-10-17T17:52:26.600691Z",
     "start_time": "2022-10-17T17:52:21.362056Z"
    }
   },
   "outputs": [
    {
     "name": "stdout",
     "output_type": "stream",
     "text": [
      "Enter the serial number of the month: 12\n",
      "It's winter\n"
     ]
    }
   ],
   "source": [
    "mylist2 = [12, 1, 2, 3, 4, 5, 6, 7, 8, 9, 10, 11]\n",
    "month = int(input('Enter the serial number of the month: ',))\n",
    "\n",
    "if month == mylist2[0] or month == mylist2[1] or month == mylist2[2]:\n",
    "    print(\"It's winter\")\n",
    "\n",
    "elif month == mylist2[3] or month == mylist2[4] or month == mylist2[5]:\n",
    "    print(\"It's spring\")\n",
    "\n",
    "elif month == mylist2[6] or month == mylist2[7] or month == mylist2[8]:\n",
    "    print(\"It's summer\")\n",
    "\n",
    "elif month == mylist2[9] or month == mylist2[10] or month == mylist2[11]:\n",
    "    print(\"It's autumn\")"
   ]
  },
  {
   "cell_type": "code",
   "execution_count": 9,
   "id": "8244a5e0",
   "metadata": {
    "ExecuteTime": {
     "end_time": "2022-10-17T17:52:40.906894Z",
     "start_time": "2022-10-17T17:52:36.683696Z"
    }
   },
   "outputs": [
    {
     "name": "stdout",
     "output_type": "stream",
     "text": [
      "Enter the serial number of the month: 5\n",
      "Spring\n"
     ]
    }
   ],
   "source": [
    "month = int(input('Enter the serial number of the month: ',))\n",
    "\n",
    "mydict = {\n",
    "\n",
    "         'Winter': [12, 1, 2],\n",
    "         'Spring': [3, 4, 5],       \n",
    "         'Summer': [6, 7, 8],      \n",
    "         'Autumn': [9, 10, 11]       \n",
    "}\n",
    "\n",
    "for key in mydict:\n",
    "    for i in range(3):\n",
    "        if month == mydict[key][i]:\n",
    "            print(key)"
   ]
  },
  {
   "cell_type": "markdown",
   "id": "bf8449c3",
   "metadata": {},
   "source": [
    "4. Пользователь вводит строку из нескольких слов, разделённых пробелами. Вывести каждое слово с новой строки. Строки нужно пронумеровать. Если слово длинное, выводить только первые 10 букв в слове."
   ]
  },
  {
   "cell_type": "code",
   "execution_count": 10,
   "id": "d28e2282",
   "metadata": {
    "ExecuteTime": {
     "end_time": "2022-10-17T17:54:27.066535Z",
     "start_time": "2022-10-17T17:52:51.418004Z"
    }
   },
   "outputs": [
    {
     "name": "stdout",
     "output_type": "stream",
     "text": [
      "enter a line with the words : qwerty Sparta abracadabra paranoia\n",
      "№1. qwerty\n",
      "№2. Sparta\n",
      "№3. abracadabr\n",
      "№4. paranoia\n"
     ]
    }
   ],
   "source": [
    "m = 0\n",
    "words = list(input('enter a line with the words : ',).split(' '))\n",
    "for i in words:\n",
    "    m += 1\n",
    "    print(f\"№{m}. {i[:10]}\")"
   ]
  },
  {
   "cell_type": "markdown",
   "id": "47a53fd1",
   "metadata": {},
   "source": [
    "5. Реализовать структуру «Рейтинг», представляющую собой набор натуральных чисел, который не возрастает. У пользователя нужно запрашивать новый элемент рейтинга. Если в рейтинге существуют элементы с одинаковыми значениями, то новый элемент с тем же значением должен разместиться после них.\n",
    "Подсказка. Например, набор натуральных чисел: 7, 5, 3, 3, 2.\n",
    "Пользователь ввёл число 3. Результат: 7, 5, 3, 3, 3, 2.\n",
    "Пользователь ввёл число 8. Результат: 8, 7, 5, 3, 3, 2.\n",
    "Пользователь ввёл число 1. Результат: 7, 5, 3, 3, 2, 1."
   ]
  },
  {
   "cell_type": "code",
   "execution_count": 17,
   "id": "4174662f",
   "metadata": {
    "ExecuteTime": {
     "end_time": "2022-10-17T18:04:22.449772Z",
     "start_time": "2022-10-17T18:03:04.487823Z"
    }
   },
   "outputs": [
    {
     "name": "stdout",
     "output_type": "stream",
     "text": [
      "You will be entering a new element? (Y/N): y\n",
      "Enter a new natural number: 1\n",
      "my_list3 = [7, 5, 3, 3, 2, 1]\n",
      "You will be entering a new element? (Y/N): y\n",
      "Enter a new natural number: 2\n",
      "my_list3 = [7, 5, 3, 3, 2, 1, 2]\n",
      "You will be entering a new element? (Y/N): y\n",
      "Enter a new natural number: 3\n",
      "my_list3 = [7, 5, 3, 3, 3, 2, 1, 2]\n",
      "You will be entering a new element? (Y/N): y\n",
      "Enter a new natural number: 6\n",
      "my_list3 = [7, 6, 5, 3, 3, 3, 2, 1, 2]\n",
      "You will be entering a new element? (Y/N): y\n",
      "Enter a new natural number: 8\n",
      "my_list3 = [8, 7, 6, 5, 3, 3, 3, 2, 1, 2]\n",
      "You will be entering a new element? (Y/N): n\n",
      "Entry of elements is finished\n"
     ]
    }
   ],
   "source": [
    "my_list3 = [7, 5, 3, 3, 2]\n",
    "n = len(my_list3)                                        # элементов в списке\n",
    "c = 0\n",
    "while c != 'n':\n",
    "\n",
    "    c = input('You will be entering a new element? (Y/N): ') # контроль продолжения ввода списка\n",
    "    if c == 'n':\n",
    "        \n",
    "        print('Entry of elements is finished')\n",
    "        break\n",
    "    else:\n",
    "        x = int(input('Enter a new natural number: ', ))      # ввод новогоэлемента \n",
    "\n",
    "        if x >= my_list3[0]:           \n",
    "            my_list3.insert(0, x)                             # вставка нового минимального значения\n",
    "\n",
    "        elif x <= my_list3[n - 1]:\n",
    "            my_list3.append(x)                                # вставка нового максимального значения\n",
    "\n",
    "        elif my_list3.count(x) == 0:\n",
    "            j = 0\n",
    "            m = len(my_list3)\n",
    "            while my_list3.count(x) == 0 & j <= m:            #  контроль кол-ва элементов списка\n",
    "\n",
    "                if my_list3[j] > x  & x > my_list3[j + 1]:              \n",
    "                    my_list3.insert(j + 1, x)\n",
    "                j += 1\n",
    "\n",
    "        else:                                 \n",
    "            b = my_list3.count(x)                             # контроль первого вхождения повторов\n",
    "            i = my_list3.index(x)                             # кол-во повторов\n",
    "            my_list3.insert(i + b, x)                         # вставка очередного повтора\n",
    "            # print(f\"my_list3.index({x}) = {i}, {b}\")\n",
    "\n",
    "        print(f\"my_list3 = {my_list3}\")    "
   ]
  }
 ],
 "metadata": {
  "kernelspec": {
   "display_name": "Python 3 (ipykernel)",
   "language": "python",
   "name": "python3"
  },
  "language_info": {
   "codemirror_mode": {
    "name": "ipython",
    "version": 3
   },
   "file_extension": ".py",
   "mimetype": "text/x-python",
   "name": "python",
   "nbconvert_exporter": "python",
   "pygments_lexer": "ipython3",
   "version": "3.9.12"
  },
  "varInspector": {
   "cols": {
    "lenName": 16,
    "lenType": 16,
    "lenVar": 40
   },
   "kernels_config": {
    "python": {
     "delete_cmd_postfix": "",
     "delete_cmd_prefix": "del ",
     "library": "var_list.py",
     "varRefreshCmd": "print(var_dic_list())"
    },
    "r": {
     "delete_cmd_postfix": ") ",
     "delete_cmd_prefix": "rm(",
     "library": "var_list.r",
     "varRefreshCmd": "cat(var_dic_list()) "
    }
   },
   "types_to_exclude": [
    "module",
    "function",
    "builtin_function_or_method",
    "instance",
    "_Feature"
   ],
   "window_display": false
  }
 },
 "nbformat": 4,
 "nbformat_minor": 5
}
