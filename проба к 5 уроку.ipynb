{
 "cells": [
  {
   "cell_type": "code",
   "execution_count": 10,
   "id": "2f5b602b",
   "metadata": {
    "ExecuteTime": {
     "end_time": "2022-11-18T17:12:01.298307Z",
     "start_time": "2022-11-18T17:11:40.728128Z"
    }
   },
   "outputs": [
    {
     "name": "stdout",
     "output_type": "stream",
     "text": [
      "Иванов     23543.12\n",
      "Петров     13749.32\n",
      "\n"
     ]
    }
   ],
   "source": [
    "with open('probe.txt', 'w', encoding='utf-8') as f:\n",
    "    while (line := input()) != '':\n",
    "            f.write(f\"{line}\\n\")"
   ]
  },
  {
   "cell_type": "code",
   "execution_count": 38,
   "id": "c6da7bce",
   "metadata": {
    "ExecuteTime": {
     "end_time": "2022-11-19T17:20:13.333175Z",
     "start_time": "2022-11-19T17:19:53.705114Z"
    },
    "code_folding": []
   },
   "outputs": [
    {
     "name": "stdout",
     "output_type": "stream",
     "text": [
      "Input new string or empty string to done: Иванов     23543.12\n",
      "Input new string or empty string to done: Петров     13749.32\n",
      "Input new string or empty string to done: \n"
     ]
    }
   ],
   "source": [
    "with open('probe.txt', 'w', encoding='utf-8') as f:\n",
    "    while True:\n",
    "        line = input('Input new string or empty string to done: ')\n",
    "        if line == '':\n",
    "            break\n",
    "        print(line, file=f)"
   ]
  },
  {
   "cell_type": "code",
   "execution_count": 52,
   "id": "7870c394",
   "metadata": {
    "ExecuteTime": {
     "end_time": "2022-11-19T17:33:06.735393Z",
     "start_time": "2022-11-19T17:33:06.715714Z"
    },
    "code_folding": []
   },
   "outputs": [
    {
     "name": "stdout",
     "output_type": "stream",
     "text": [
      "Строка 1 содержит 2 слов\n",
      "Строка 2 содержит 2 слов\n"
     ]
    }
   ],
   "source": [
    "with open('probe.txt', 'r', encoding='utf-8') as f_obj:\n",
    "    my_line = f_obj.readlines()\n",
    "    for index, value in enumerate(my_line, 1):\n",
    "        number_of_words = len(value.split())\n",
    "        print(f'Строка {index} содержит {number_of_words} слов')"
   ]
  },
  {
   "cell_type": "code",
   "execution_count": 49,
   "id": "bfca63d9",
   "metadata": {
    "ExecuteTime": {
     "end_time": "2022-11-19T17:32:09.949627Z",
     "start_time": "2022-11-19T17:32:09.944258Z"
    }
   },
   "outputs": [
    {
     "name": "stdout",
     "output_type": "stream",
     "text": [
      "1. Иванов     23543.12 : - 2слов\n",
      "2. Петров     13749.32 : - 2слов\n",
      "Всего строк - 2.\n"
     ]
    }
   ],
   "source": [
    "with open('probe.txt', 'r', encoding='utf-8') as f:\n",
    "    userful = [f'{count}. {line.strip()} : - {len(line.split())}слов'\n",
    "               for count, line in enumerate(f, 1)]\n",
    "    print(*userful, f\"Всего строк - {len(userful)}.\", sep=\"\\n\")\n",
    "    "
   ]
  },
  {
   "cell_type": "code",
   "execution_count": 54,
   "id": "f8b4657d",
   "metadata": {
    "ExecuteTime": {
     "end_time": "2022-11-19T17:50:54.088369Z",
     "start_time": "2022-11-19T17:50:54.080130Z"
    }
   },
   "outputs": [
    {
     "name": "stdout",
     "output_type": "stream",
     "text": [
      "Average salary = 18646.22\n",
      "\n"
     ]
    }
   ],
   "source": [
    "with open('probe.txt', 'r', encoding='utf-8') as f_:\n",
    "    employees = {line.split()[0]: float(line.split()[1]) for line in f_}\n",
    "    print(f'Average salary = {round(sum(employees.values()) / len(employees), 2)}\\n')\n",
    "          # f'Employees with salary less then 20k {[e[0] for e in employees.items() if e(1) < 20000]}')"
   ]
  },
  {
   "cell_type": "code",
   "execution_count": 62,
   "id": "27cbe51a",
   "metadata": {
    "ExecuteTime": {
     "end_time": "2022-11-19T18:00:11.281690Z",
     "start_time": "2022-11-19T18:00:11.265224Z"
    }
   },
   "outputs": [
    {
     "name": "stdout",
     "output_type": "stream",
     "text": [
      "Employees with salary less then 20k ['Петров']\n"
     ]
    }
   ],
   "source": [
    "print(f'Employees with salary less then 20k {[e[0] for e in employees.items() if employees[e[0]] < 20000]}')"
   ]
  },
  {
   "cell_type": "code",
   "execution_count": null,
   "id": "34ae5e60",
   "metadata": {},
   "outputs": [],
   "source": []
  }
 ],
 "metadata": {
  "kernelspec": {
   "display_name": "Python 3 (ipykernel)",
   "language": "python",
   "name": "python3"
  },
  "language_info": {
   "codemirror_mode": {
    "name": "ipython",
    "version": 3
   },
   "file_extension": ".py",
   "mimetype": "text/x-python",
   "name": "python",
   "nbconvert_exporter": "python",
   "pygments_lexer": "ipython3",
   "version": "3.9.12"
  },
  "toc": {
   "base_numbering": 1,
   "nav_menu": {},
   "number_sections": true,
   "sideBar": true,
   "skip_h1_title": false,
   "title_cell": "Table of Contents",
   "title_sidebar": "Contents",
   "toc_cell": false,
   "toc_position": {},
   "toc_section_display": true,
   "toc_window_display": false
  },
  "varInspector": {
   "cols": {
    "lenName": 16,
    "lenType": 16,
    "lenVar": 40
   },
   "kernels_config": {
    "python": {
     "delete_cmd_postfix": "",
     "delete_cmd_prefix": "del ",
     "library": "var_list.py",
     "varRefreshCmd": "print(var_dic_list())"
    },
    "r": {
     "delete_cmd_postfix": ") ",
     "delete_cmd_prefix": "rm(",
     "library": "var_list.r",
     "varRefreshCmd": "cat(var_dic_list()) "
    }
   },
   "types_to_exclude": [
    "module",
    "function",
    "builtin_function_or_method",
    "instance",
    "_Feature"
   ],
   "window_display": false
  }
 },
 "nbformat": 4,
 "nbformat_minor": 5
}
