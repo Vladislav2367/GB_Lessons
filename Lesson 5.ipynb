{
 "cells": [
  {
   "cell_type": "markdown",
   "id": "877443c6",
   "metadata": {},
   "source": [
    "Урок 5. Работа с файлами"
   ]
  },
  {
   "cell_type": "markdown",
   "id": "457b2484",
   "metadata": {},
   "source": [
    "1. Создать программный файл в текстовом формате, записать в него построчно данные, вводимые пользователем. Об окончании ввода данных будет свидетельствовать пустая строка."
   ]
  },
  {
   "cell_type": "code",
   "execution_count": 58,
   "id": "49c94f79",
   "metadata": {
    "ExecuteTime": {
     "end_time": "2022-12-06T19:27:37.326202Z",
     "start_time": "2022-12-06T19:26:59.449776Z"
    }
   },
   "outputs": [
    {
     "name": "stdout",
     "output_type": "stream",
     "text": [
      "Enter new string, if no press 'Enter': Создать программный файл в текстовом формате,\n",
      "Enter new string, if no press 'Enter': записать в него построчно данные,\n",
      "Enter new string, if no press 'Enter': вводимые пользователем.\n",
      "Enter new string, if no press 'Enter': \n",
      "Here it is finished\n"
     ]
    }
   ],
   "source": [
    "my_f = open(\"my_file.txt\", \"w\")\n",
    "i = 0\n",
    "while i == 0:\n",
    "    a = 0\n",
    "    while a == 0:\n",
    "        a = str(input(\"Enter new string, if no press 'Enter': \",))\n",
    "        my_f.write(a +'\\n')\n",
    "        \n",
    "        if a == '':\n",
    "            i = 1\n",
    "            break\n",
    "my_f.close()\n",
    "print('Here it is finished')"
   ]
  },
  {
   "cell_type": "code",
   "execution_count": 105,
   "id": "b34d07e1",
   "metadata": {
    "ExecuteTime": {
     "end_time": "2022-12-08T20:03:18.450789Z",
     "start_time": "2022-12-08T20:03:18.444162Z"
    }
   },
   "outputs": [
    {
     "name": "stdout",
     "output_type": "stream",
     "text": [
      "Создать программный файл в текстовом формате,\n",
      "записать в него построчно данные,\n",
      "вводимые пользователем.\n",
      "\n",
      "\n"
     ]
    }
   ],
   "source": [
    "my_f_ = open(\"my_file.txt\", \"r\")\n",
    "content = my_f_.read()\n",
    "print(content)\n",
    "my_f_.close()"
   ]
  },
  {
   "cell_type": "markdown",
   "id": "0be5aa93",
   "metadata": {},
   "source": [
    "2. Создать текстовый файл (не программно), сохранить в нём несколько строк, выполнить подсчёт строк и слов в каждой строке."
   ]
  },
  {
   "cell_type": "code",
   "execution_count": 60,
   "id": "2213bbe9",
   "metadata": {
    "ExecuteTime": {
     "end_time": "2022-12-06T19:27:48.363703Z",
     "start_time": "2022-12-06T19:27:48.339701Z"
    }
   },
   "outputs": [
    {
     "name": "stdout",
     "output_type": "stream",
     "text": [
      "There are 434 words.\n"
     ]
    }
   ],
   "source": [
    "import re\n",
    "\n",
    "count_ = 0\n",
    "\n",
    "with open('simple.txt', 'r', encoding=\"UTF-8\") as file:\n",
    "      \n",
    "    content = file.read()\n",
    "    #  print(content)\n",
    "    \n",
    "result = len(re.findall(r'\\w+', content))\n",
    "\n",
    "print(\"There are \" + str(result) + \" words.\")"
   ]
  },
  {
   "cell_type": "code",
   "execution_count": 61,
   "id": "f3a1998f",
   "metadata": {
    "ExecuteTime": {
     "end_time": "2022-12-06T19:28:00.674750Z",
     "start_time": "2022-12-06T19:28:00.651477Z"
    }
   },
   "outputs": [
    {
     "name": "stdout",
     "output_type": "stream",
     "text": [
      "Total non-empty lines:  22\n"
     ]
    }
   ],
   "source": [
    "with open('simple.txt') as file:\n",
    "    total= sum(1 for line in file if line.rstrip('\\n')) # excluding empty lines\n",
    "print('Total non-empty lines: ', total)"
   ]
  },
  {
   "cell_type": "markdown",
   "id": "ec19d244",
   "metadata": {},
   "source": [
    "3. Создать текстовый файл (не программно). Построчно записать фамилии сотрудников и величину их окладов (не менее 10 строк). Определить, кто из сотрудников имеет оклад менее 20 тысяч, вывести фамилии этих сотрудников. Выполнить подсчёт средней величины дохода сотрудников."
   ]
  },
  {
   "cell_type": "raw",
   "id": "dd221410",
   "metadata": {},
   "source": [
    "Пример файла:\n",
    "               Иванов 23543.12\n",
    "               Петров 13749.32"
   ]
  },
  {
   "cell_type": "code",
   "execution_count": 106,
   "id": "627fb5ea",
   "metadata": {
    "ExecuteTime": {
     "end_time": "2022-12-08T20:05:14.503715Z",
     "start_time": "2022-12-08T20:05:13.343352Z"
    }
   },
   "outputs": [
    {
     "data": {
      "text/html": [
       "<div>\n",
       "<style scoped>\n",
       "    .dataframe tbody tr th:only-of-type {\n",
       "        vertical-align: middle;\n",
       "    }\n",
       "\n",
       "    .dataframe tbody tr th {\n",
       "        vertical-align: top;\n",
       "    }\n",
       "\n",
       "    .dataframe thead th {\n",
       "        text-align: right;\n",
       "    }\n",
       "</style>\n",
       "<table border=\"1\" class=\"dataframe\">\n",
       "  <thead>\n",
       "    <tr style=\"text-align: right;\">\n",
       "      <th></th>\n",
       "      <th>Surname</th>\n",
       "      <th>Salary</th>\n",
       "    </tr>\n",
       "  </thead>\n",
       "  <tbody>\n",
       "    <tr>\n",
       "      <th>0</th>\n",
       "      <td>Иванов</td>\n",
       "      <td>14600.23</td>\n",
       "    </tr>\n",
       "    <tr>\n",
       "      <th>1</th>\n",
       "      <td>Петров</td>\n",
       "      <td>15789.67</td>\n",
       "    </tr>\n",
       "    <tr>\n",
       "      <th>2</th>\n",
       "      <td>Молокотин</td>\n",
       "      <td>24900.00</td>\n",
       "    </tr>\n",
       "    <tr>\n",
       "      <th>3</th>\n",
       "      <td>Сурков</td>\n",
       "      <td>21790.56</td>\n",
       "    </tr>\n",
       "    <tr>\n",
       "      <th>4</th>\n",
       "      <td>Серёгин</td>\n",
       "      <td>16469.99</td>\n",
       "    </tr>\n",
       "    <tr>\n",
       "      <th>5</th>\n",
       "      <td>Сидоров</td>\n",
       "      <td>17300.00</td>\n",
       "    </tr>\n",
       "    <tr>\n",
       "      <th>6</th>\n",
       "      <td>Ремезов</td>\n",
       "      <td>18250.98</td>\n",
       "    </tr>\n",
       "    <tr>\n",
       "      <th>7</th>\n",
       "      <td>Долгих</td>\n",
       "      <td>11980.00</td>\n",
       "    </tr>\n",
       "    <tr>\n",
       "      <th>8</th>\n",
       "      <td>Тиунов</td>\n",
       "      <td>12990.99</td>\n",
       "    </tr>\n",
       "    <tr>\n",
       "      <th>9</th>\n",
       "      <td>Крупп</td>\n",
       "      <td>22670.34</td>\n",
       "    </tr>\n",
       "  </tbody>\n",
       "</table>\n",
       "</div>"
      ],
      "text/plain": [
       "     Surname    Salary\n",
       "0     Иванов  14600.23\n",
       "1     Петров  15789.67\n",
       "2  Молокотин  24900.00\n",
       "3     Сурков  21790.56\n",
       "4    Серёгин  16469.99\n",
       "5    Сидоров  17300.00\n",
       "6    Ремезов  18250.98\n",
       "7     Долгих  11980.00\n",
       "8     Тиунов  12990.99\n",
       "9      Крупп  22670.34"
      ]
     },
     "execution_count": 106,
     "metadata": {},
     "output_type": "execute_result"
    }
   ],
   "source": [
    "import pandas as pd\n",
    "\n",
    "workers = pd.read_csv('workers.txt', header=None, sep='\\s+',names=[\"Surname\", \"Salary\"] )\n",
    "workers"
   ]
  },
  {
   "cell_type": "code",
   "execution_count": 107,
   "id": "7fbfc42f",
   "metadata": {
    "ExecuteTime": {
     "end_time": "2022-12-08T20:05:18.639581Z",
     "start_time": "2022-12-08T20:05:18.624195Z"
    }
   },
   "outputs": [
    {
     "data": {
      "text/plain": [
       "24900.0"
      ]
     },
     "execution_count": 107,
     "metadata": {},
     "output_type": "execute_result"
    }
   ],
   "source": [
    "workers.Salary.max()"
   ]
  },
  {
   "cell_type": "code",
   "execution_count": 108,
   "id": "69e320d4",
   "metadata": {
    "ExecuteTime": {
     "end_time": "2022-12-08T20:05:20.039262Z",
     "start_time": "2022-12-08T20:05:20.030844Z"
    }
   },
   "outputs": [
    {
     "data": {
      "text/plain": [
       "11980.0"
      ]
     },
     "execution_count": 108,
     "metadata": {},
     "output_type": "execute_result"
    }
   ],
   "source": [
    "workers.Salary.min()"
   ]
  },
  {
   "cell_type": "code",
   "execution_count": 109,
   "id": "8435fd4a",
   "metadata": {
    "ExecuteTime": {
     "end_time": "2022-12-08T20:05:20.843939Z",
     "start_time": "2022-12-08T20:05:20.831183Z"
    }
   },
   "outputs": [
    {
     "name": "stdout",
     "output_type": "stream",
     "text": [
      "last name of the worker who has the maximum salary: - Молокотин , salary = 24900.0\n"
     ]
    }
   ],
   "source": [
    "print(\"last name of the worker who has the maximum salary: -\", \n",
    "      workers.Surname[workers.Salary == workers.Salary.max()].to_string(index=False), \n",
    "      \", salary =\", workers.Salary[workers.Salary == workers.Salary.max()].to_string(index=False))"
   ]
  },
  {
   "cell_type": "code",
   "execution_count": 110,
   "id": "16f2ff71",
   "metadata": {
    "ExecuteTime": {
     "end_time": "2022-12-08T20:05:21.882455Z",
     "start_time": "2022-12-08T20:05:21.870679Z"
    }
   },
   "outputs": [
    {
     "name": "stdout",
     "output_type": "stream",
     "text": [
      "last name of the worker who has the minimum salary: - Долгих , salary = 11980.0\n"
     ]
    }
   ],
   "source": [
    "print('last name of the worker who has the minimum salary: -',\n",
    "      workers.Surname[workers.Salary == workers.Salary.min()].to_string(index=False), \", salary =\", \n",
    "    workers.Salary[workers.Salary == workers.Salary.min()].to_string(index=False))"
   ]
  },
  {
   "cell_type": "code",
   "execution_count": 111,
   "id": "3cae55dc",
   "metadata": {
    "ExecuteTime": {
     "end_time": "2022-12-08T20:05:27.828515Z",
     "start_time": "2022-12-08T20:05:27.811172Z"
    }
   },
   "outputs": [
    {
     "name": "stdout",
     "output_type": "stream",
     "text": [
      "Average salary value: - 17674.28\n"
     ]
    }
   ],
   "source": [
    "print('Average salary value: -',round(workers.Salary.mean(), 2))"
   ]
  },
  {
   "cell_type": "code",
   "execution_count": 112,
   "id": "bc390f77",
   "metadata": {
    "ExecuteTime": {
     "end_time": "2022-12-08T20:05:29.931627Z",
     "start_time": "2022-12-08T20:05:29.922824Z"
    }
   },
   "outputs": [
    {
     "name": "stdout",
     "output_type": "stream",
     "text": [
      "Average salary = 17674.28\n",
      "\n",
      "Employees with salary less 20000:\n",
      "Иванов\n",
      "Петров\n",
      "Серёгин\n",
      "Сидоров\n",
      "Ремезов\n",
      "Долгих\n",
      "Тиунов\n"
     ]
    }
   ],
   "source": [
    "import re\n",
    "\n",
    "with open('workers.txt', 'r', encoding='utf-8') as f_:\n",
    "    employees = {line.split()[0]: float(line.split()[1]) for line in f_}\n",
    "    print(f'Average salary = {round(sum(employees.values()) / len(employees), 2)}\\n')\n",
    "    print('Employees with salary less 20000:')\n",
    "    for i in employees.items():\n",
    "        if i[1] < 20000: print(i[0])"
   ]
  },
  {
   "cell_type": "markdown",
   "id": "96e5c9a0",
   "metadata": {},
   "source": [
    "4. Создать (не программно) текстовый файл со следующим содержимым:\n",
    "One — 1\n",
    "Two — 2\n",
    "Three — 3\n",
    "Four — 4\n",
    "Напишите программу, открывающую файл на чтение и считывающую построчно данные. При этом английские числительные должны заменяться на русские. Новый блок строк должен записываться в новый текстовый файл."
   ]
  },
  {
   "cell_type": "code",
   "execution_count": 113,
   "id": "7e2e78ca",
   "metadata": {
    "ExecuteTime": {
     "end_time": "2022-12-08T20:05:40.761037Z",
     "start_time": "2022-12-08T20:05:40.746945Z"
    }
   },
   "outputs": [
    {
     "name": "stdout",
     "output_type": "stream",
     "text": [
      "Один - 1\n",
      "Два - 2\n",
      "Три - 3\n",
      "Четыре - 4\n"
     ]
    }
   ],
   "source": [
    "import re\n",
    "\n",
    "with open('translate_num.txt', 'r', encoding='utf-8') as fn:\n",
    "    fnum = [line.split() for line in fn]\n",
    "    number = {line[0]: int(line[2]) for line in fnum}\n",
    "    for i in number.items():\n",
    "        i = list(i)\n",
    "        if i[1] == 1:\n",
    "            i[0] = 'Один'\n",
    "        elif i[1] == 2:\n",
    "            i[0] = 'Два'\n",
    "        elif i[1] == 3:\n",
    "            i[0] = 'Три'\n",
    "        elif i[1] == 4:\n",
    "            i[0] = 'Четыре'\n",
    "        \n",
    "        print(','.join([str(j) for j in i]).replace(',',' - '))\n",
    "        a = ','.join([str(j) for j in i]).replace(',',' - ')\n",
    "        with open('translated_num.txt', 'a', encoding='utf-8') as fan:  \n",
    "            fan.write(f\"{a}\\n\")"
   ]
  },
  {
   "cell_type": "markdown",
   "id": "10a03399",
   "metadata": {},
   "source": [
    "5. Создать (программно) текстовый файл, записать в него программно набор чисел, разделённых пробелами. Программа должна подсчитывать сумму чисел в файле и выводить её на экран."
   ]
  },
  {
   "cell_type": "code",
   "execution_count": 120,
   "id": "b3341238",
   "metadata": {
    "ExecuteTime": {
     "end_time": "2022-12-08T20:08:55.465088Z",
     "start_time": "2022-12-08T20:08:33.863388Z"
    }
   },
   "outputs": [
    {
     "name": "stdout",
     "output_type": "stream",
     "text": [
      "Enter a set of numbers separated by a space: 122 543 7689 55\n"
     ]
    }
   ],
   "source": [
    "with open('numbers.txt', 'a', encoding='utf-8') as f:\n",
    "    numb_ = input('Enter a set of numbers separated by a space: ')\n",
    "    f.write(numb_) "
   ]
  },
  {
   "cell_type": "code",
   "execution_count": 121,
   "id": "ebf73628",
   "metadata": {
    "ExecuteTime": {
     "end_time": "2022-12-08T20:08:59.882141Z",
     "start_time": "2022-12-08T20:08:59.874634Z"
    }
   },
   "outputs": [
    {
     "name": "stdout",
     "output_type": "stream",
     "text": [
      "156867.0\n"
     ]
    }
   ],
   "source": [
    "with open('numbers.txt', 'r', encoding='utf-8') as f_:\n",
    "    num_ = f_.read().split(' ')\n",
    "    s = 0\n",
    "    for i in num_:\n",
    "        s = s + float(i)\n",
    "    print(s)"
   ]
  },
  {
   "cell_type": "markdown",
   "id": "5baf810b",
   "metadata": {},
   "source": [
    "6. Сформировать (не программно) текстовый файл. В нём каждая строка должна описывать учебный предмет и наличие лекционных, практических и лабораторных занятий по предмету. Сюда должно входить и количество занятий. Необязательно, чтобы для каждого предмета были все типы занятий.\n",
    "Сформировать словарь, содержащий название предмета и общее количество занятий по нему. Вывести его на экран."
   ]
  },
  {
   "cell_type": "raw",
   "id": "6c77ebb5",
   "metadata": {
    "ExecuteTime": {
     "end_time": "2022-11-28T18:11:26.700913Z",
     "start_time": "2022-11-28T18:11:26.692663Z"
    }
   },
   "source": [
    "Примеры строк файла: Информатика: 100(л) 50(пр) 20(лаб).\n",
    "Физика: 30(л) — 10(лаб)\n",
    "Физкультура: — 30(пр) —\n",
    "Пример словаря: {“Информатика”: 170, “Физика”: 40, “Физкультура”: 30}"
   ]
  },
  {
   "cell_type": "code",
   "execution_count": 122,
   "id": "66b4f5f4",
   "metadata": {
    "ExecuteTime": {
     "end_time": "2022-12-08T20:09:10.857326Z",
     "start_time": "2022-12-08T20:09:10.838311Z"
    },
    "solution": "hidden",
    "solution_first": true
   },
   "outputs": [
    {
     "name": "stdout",
     "output_type": "stream",
     "text": [
      "{'Мат.анализ ': [230], 'Высш.алгебра ': [225], 'Аналит.геометрия ': [160], 'Тензорн.анализ ': [144], 'Физика  ': [225], 'Физподготовка ': [60], 'История  ': [94]}\n"
     ]
    }
   ],
   "source": [
    "import re\n",
    "d = {}\n",
    "with open('Curriculum.txt', 'r', encoding='utf-8') as f_:\n",
    "    Pl = f_.readlines()\n",
    "    for line in Pl:\n",
    "        subj_ = str(re.findall(r\"\\D+\", line)[0]).replace(':', '')\n",
    "        n_ = re.findall(r'\\d+', line)\n",
    "        s = sum(list(map(int, n_)))\n",
    "        d[subj_] = [s]\n",
    "    print(d)\n"
   ]
  },
  {
   "cell_type": "markdown",
   "id": "8797ab4a",
   "metadata": {},
   "source": [
    "7. Создать вручную и заполнить несколькими строками текстовый файл, в котором каждая строка будет содержать данные о фирме: название, форма собственности, выручка, издержки.\n",
    "Пример строки файла: firm_1 ООО 10000 5000.\n",
    "\n",
    "Необходимо построчно прочитать файл, вычислить прибыль каждой компании, а также среднюю прибыль. Если фирма получила убытки, в расчёт средней прибыли её не включать.\n",
    "Далее реализовать список. Он должен содержать словарь с фирмами и их прибылями, а также словарь со средней прибылью. Если фирма получила убытки, также добавить её в словарь (со значением убытков).\n",
    "Пример списка: [{“firm_1”: 5000, “firm_2”: 3000, “firm_3”: 1000}, {“average_profit”: 2000}].\n",
    "\n",
    "Итоговый список сохранить в виде json-объекта в соответствующий файл.\n",
    "Пример json-объекта:\n",
    "[{\"firm_1\": 5000, \"firm_2\": 3000, \"firm_3\": 1000}, {\"average_profit\": 2000}]\n",
    "Подсказка: использовать менеджер контекста."
   ]
  },
  {
   "cell_type": "code",
   "execution_count": 150,
   "id": "3ccc4d49",
   "metadata": {
    "ExecuteTime": {
     "end_time": "2022-12-08T20:25:03.610408Z",
     "start_time": "2022-12-08T20:25:03.600554Z"
    }
   },
   "outputs": [
    {
     "name": "stdout",
     "output_type": "stream",
     "text": [
      "[{'МягкоFF': 80000, 'Доставка': 45000, 'Dog&Kat': -16000, 'Мясная лавка': 77000, 'Турист': 730000, 'Кондитерская Беликов': -2000}, {'average_profit': 155333.33}]\n"
     ]
    }
   ],
   "source": [
    "import re\n",
    "import json\n",
    "F = {}\n",
    "Aver_profit ={}\n",
    "deb_ = 0\n",
    "k = 0\n",
    "Result_List = []\n",
    "with open('Firms_list.txt', 'r', encoding='utf-8') as f_:\n",
    "   \n",
    "    Firm = f_.readlines()\n",
    "    \n",
    "    k = k + 1\n",
    "    for line in Firm:\n",
    "        Firm_0 = ''\n",
    "        Firm_ = str(re.findall(r\"\\D+\", line)[0])\n",
    "        x1 = Firm_.find('»')\n",
    "        \n",
    "        for i in range(1, x1):\n",
    "            Firm_0 = Firm_0 + Firm_[i]\n",
    "            \n",
    "        n_ = re.findall(r'\\d+', line)\n",
    "        s = list(map(int, n_))\n",
    "        debit = s[0] - s[1]\n",
    "        F[Firm_0] = debit\n",
    "        if debit > 0:\n",
    "            deb_ = deb_ + debit\n",
    "    \n",
    "Aver_profit['average_profit'] = round(deb_ / len(F.values()), 2)\n",
    "\n",
    "Result_List.append(F)\n",
    "Result_List.append(Aver_profit)\n",
    "\n",
    "print(Result_List)\n",
    "with open('my_file.json', 'w') as file_list:\n",
    "    json.dump(Result_List, file_list)\n",
    "    \n"
   ]
  },
  {
   "cell_type": "code",
   "execution_count": 151,
   "id": "268ede77",
   "metadata": {
    "ExecuteTime": {
     "end_time": "2022-12-08T20:25:45.614041Z",
     "start_time": "2022-12-08T20:25:45.604811Z"
    }
   },
   "outputs": [
    {
     "name": "stdout",
     "output_type": "stream",
     "text": [
      "[{\"\\u041c\\u044f\\u0433\\u043a\\u043eFF\": 80000, \"\\u0414\\u043e\\u0441\\u0442\\u0430\\u0432\\u043a\\u0430\": 45000, \"Dog&Kat\": -16000, \"\\u041c\\u044f\\u0441\\u043d\\u0430\\u044f \\u043b\\u0430\\u0432\\u043a\\u0430\": 77000, \"\\u0422\\u0443\\u0440\\u0438\\u0441\\u0442\": 730000, \"\\u041a\\u043e\\u043d\\u0434\\u0438\\u0442\\u0435\\u0440\\u0441\\u043a\\u0430\\u044f \\u0411\\u0435\\u043b\\u0438\\u043a\\u043e\\u0432\": -2000}, {\"average_profit\": 155333.33}]\n",
      "<class 'str'>\n"
     ]
    }
   ],
   "source": [
    "json_str = json.dumps(Result_List)\n",
    "print(json_str)\n",
    "print(type(json_str))"
   ]
  },
  {
   "cell_type": "code",
   "execution_count": 147,
   "id": "042aa93b",
   "metadata": {
    "ExecuteTime": {
     "end_time": "2022-12-08T20:24:34.054787Z",
     "start_time": "2022-12-08T20:24:34.049114Z"
    }
   },
   "outputs": [],
   "source": [
    "data = [{\n",
    "\"income\": {\n",
    "\"salary\": 50000,\n",
    "\"bonus\": 20000\n",
    "}\n",
    "}]"
   ]
  },
  {
   "cell_type": "code",
   "execution_count": 148,
   "id": "db370e02",
   "metadata": {
    "ExecuteTime": {
     "end_time": "2022-12-08T20:24:36.380422Z",
     "start_time": "2022-12-08T20:24:36.375685Z"
    }
   },
   "outputs": [],
   "source": [
    "with open(\"my_file.json\", \"w\") as write_f:\n",
    "    json.dump(data, write_f)\n",
    "    \n",
    "    "
   ]
  },
  {
   "cell_type": "code",
   "execution_count": 149,
   "id": "cf1cf096",
   "metadata": {
    "ExecuteTime": {
     "end_time": "2022-12-08T20:24:39.666355Z",
     "start_time": "2022-12-08T20:24:39.661104Z"
    }
   },
   "outputs": [
    {
     "name": "stdout",
     "output_type": "stream",
     "text": [
      "[{\"income\": {\"salary\": 50000, \"bonus\": 20000}}]\n",
      "<class 'str'>\n"
     ]
    }
   ],
   "source": [
    "json_str = json.dumps(data)\n",
    "print(json_str)\n",
    "print(type(json_str))"
   ]
  }
 ],
 "metadata": {
  "kernelspec": {
   "display_name": "Python 3 (ipykernel)",
   "language": "python",
   "name": "python3"
  },
  "language_info": {
   "codemirror_mode": {
    "name": "ipython",
    "version": 3
   },
   "file_extension": ".py",
   "mimetype": "text/x-python",
   "name": "python",
   "nbconvert_exporter": "python",
   "pygments_lexer": "ipython3",
   "version": "3.9.12"
  },
  "toc": {
   "base_numbering": 1,
   "nav_menu": {},
   "number_sections": true,
   "sideBar": true,
   "skip_h1_title": false,
   "title_cell": "Table of Contents",
   "title_sidebar": "Contents",
   "toc_cell": false,
   "toc_position": {},
   "toc_section_display": true,
   "toc_window_display": false
  },
  "varInspector": {
   "cols": {
    "lenName": 16,
    "lenType": 16,
    "lenVar": 40
   },
   "kernels_config": {
    "python": {
     "delete_cmd_postfix": "",
     "delete_cmd_prefix": "del ",
     "library": "var_list.py",
     "varRefreshCmd": "print(var_dic_list())"
    },
    "r": {
     "delete_cmd_postfix": ") ",
     "delete_cmd_prefix": "rm(",
     "library": "var_list.r",
     "varRefreshCmd": "cat(var_dic_list()) "
    }
   },
   "types_to_exclude": [
    "module",
    "function",
    "builtin_function_or_method",
    "instance",
    "_Feature"
   ],
   "window_display": false
  }
 },
 "nbformat": 4,
 "nbformat_minor": 5
}
