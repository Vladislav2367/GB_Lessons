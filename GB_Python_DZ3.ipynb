{
 "cells": [
  {
   "cell_type": "markdown",
   "id": "aa5e58f3",
   "metadata": {},
   "source": [
    "# GB_Python_DZ3"
   ]
  },
  {
   "cell_type": "markdown",
   "id": "5d129bcf",
   "metadata": {},
   "source": [
    "1. Реализовать функцию, принимающую два числа (позиционные аргументы) и выполняющую их деление. Числа запрашивать у пользователя, предусмотреть обработку ситуации деления на ноль."
   ]
  },
  {
   "cell_type": "code",
   "execution_count": null,
   "id": "4a006c7b",
   "metadata": {
    "ExecuteTime": {
     "end_time": "2022-11-02T15:54:18.123142Z",
     "start_time": "2022-11-02T15:54:18.118325Z"
    }
   },
   "outputs": [],
   "source": [
    "def diff( a, b):\n",
    "    try:\n",
    "        k = a / b\n",
    "    except ZeroDivisionError:\n",
    "        k = \"Can 't be divided\"\n",
    "    print(f\"{a} / {b} = {k}\")        "
   ]
  },
  {
   "cell_type": "code",
   "execution_count": null,
   "id": "e555797b",
   "metadata": {
    "ExecuteTime": {
     "end_time": "2022-11-02T15:55:17.741334Z",
     "start_time": "2022-11-02T15:55:10.337592Z"
    }
   },
   "outputs": [],
   "source": [
    "a = float(input(\"Enter variables 'a = '\",))\n",
    "b = float(input(\"Enter variables 'b = '\",))\n",
    "diff(a,b)"
   ]
  },
  {
   "cell_type": "markdown",
   "id": "b2ccb33b",
   "metadata": {},
   "source": [
    "2. Выполнить функцию, которая принимает несколько параметров, описывающих данные пользователя: имя, фамилия, год рождения, город проживания, email, телефон. Функция должна принимать параметры как именованные аргументы. Осуществить вывод данных о пользователе одной строкой."
   ]
  },
  {
   "cell_type": "code",
   "execution_count": 8,
   "id": "e68098d7",
   "metadata": {
    "ExecuteTime": {
     "end_time": "2022-11-03T15:17:41.180733Z",
     "start_time": "2022-11-03T15:17:41.162061Z"
    }
   },
   "outputs": [],
   "source": [
    "def user(f_name, l_name, year_, city_, email_, phone_):\n",
    "    info_user = f_name + ' ' + l_name + ' ' + year_ + ' ' + city_ + ' ' + email_ + ' ' + phone_\n",
    "    print(info_user)"
   ]
  },
  {
   "cell_type": "code",
   "execution_count": 9,
   "id": "6a6d3a5e",
   "metadata": {
    "ExecuteTime": {
     "end_time": "2022-11-03T15:18:46.770763Z",
     "start_time": "2022-11-03T15:17:48.418895Z"
    }
   },
   "outputs": [
    {
     "name": "stdout",
     "output_type": "stream",
     "text": [
      "Name: Dmitry\n",
      "lastname: Gorin\n",
      "year: 1987\n",
      "city: Moskow\n",
      "email: dm.gor87@mail.ru\n",
      "phone: 89829567711\n",
      "Dmitry Gorin 1987 Moskow dm.gor87@mail.ru 89829567711\n"
     ]
    }
   ],
   "source": [
    "user(f_name=input('Name: ',), l_name=input('lastname: ',), year_=input('year: ',),\n",
    "          city_=input('city: ',), email_=input('email: ',), phone_=input('phone: ',))"
   ]
  },
  {
   "cell_type": "markdown",
   "id": "e26ab344",
   "metadata": {},
   "source": [
    "3. Реализовать функцию my_func(), которая принимает три позиционных аргумента и возвращает сумму наибольших двух аргументов."
   ]
  },
  {
   "cell_type": "code",
   "execution_count": 55,
   "id": "1f92e474",
   "metadata": {
    "ExecuteTime": {
     "end_time": "2022-11-03T16:34:50.459997Z",
     "start_time": "2022-11-03T16:34:50.450918Z"
    }
   },
   "outputs": [],
   "source": [
    "a = 0\n",
    "\n",
    "\n",
    "def my_func(var_1, var_2, var_3):\n",
    "    \n",
    "    if var_1 < var_2 < var_3 or var_1 < var_3 < var_2:\n",
    "\n",
    "        a = var_2 + var_3\n",
    "        \n",
    "    elif var_2 < var_1 < var_3 or var_2 < var_3 < var_1:\n",
    "\n",
    "            a = var_1 + var_3\n",
    "            \n",
    "    elif var_3 < var_2 < var_1 or var_3 < var_1 < var_2:\n",
    "\n",
    "            a = var_1 + var_2\n",
    "    print(a)\n",
    "        "
   ]
  },
  {
   "cell_type": "code",
   "execution_count": 57,
   "id": "856d2e63",
   "metadata": {
    "ExecuteTime": {
     "end_time": "2022-11-03T16:35:32.455713Z",
     "start_time": "2022-11-03T16:35:25.169683Z"
    },
    "scrolled": true
   },
   "outputs": [
    {
     "name": "stdout",
     "output_type": "stream",
     "text": [
      "Enter the value of the variables 7\n",
      "Enter the value of the variables 8\n",
      "Enter the value of the variables 4\n",
      "15\n"
     ]
    }
   ],
   "source": [
    "my_func(int(input('Enter the value of the variables ')),\n",
    "        int(input('Enter the value of the variables ')),\n",
    "        int(input('Enter the value of the variables ')))"
   ]
  },
  {
   "cell_type": "markdown",
   "id": "f5a998a9",
   "metadata": {},
   "source": [
    "4. Программа принимает действительное положительное число x и целое отрицательное число y. Выполните возведение числа x в степень y. Задание реализуйте в виде функции my_func(x, y). При решении задания нужно обойтись без встроенной функции возведения числа в степень."
   ]
  },
  {
   "cell_type": "code",
   "execution_count": 94,
   "id": "ac14c240",
   "metadata": {
    "ExecuteTime": {
     "end_time": "2022-11-03T17:13:43.939653Z",
     "start_time": "2022-11-03T17:13:43.933592Z"
    }
   },
   "outputs": [],
   "source": [
    "def my_func(x, y):\n",
    "    \n",
    "    b = 1\n",
    "    \n",
    "    for i in range(abs(y)):\n",
    "        \n",
    "        b = b / x\n",
    "        \n",
    "    print(b)"
   ]
  },
  {
   "cell_type": "code",
   "execution_count": 95,
   "id": "5ddafcde",
   "metadata": {
    "ExecuteTime": {
     "end_time": "2022-11-03T17:13:46.168186Z",
     "start_time": "2022-11-03T17:13:46.149867Z"
    }
   },
   "outputs": [
    {
     "name": "stdout",
     "output_type": "stream",
     "text": [
      "0.004795850246698537\n"
     ]
    }
   ],
   "source": [
    "my_func(3.8, -4)"
   ]
  },
  {
   "cell_type": "markdown",
   "id": "3d2e813b",
   "metadata": {},
   "source": [
    "5. Программа запрашивает у пользователя строку чисел, разделённых пробелом. При нажатии Enter должна выводиться сумма чисел. Пользователь может продолжить ввод чисел, разделённых пробелом и снова нажать Enter. Сумма вновь введённых чисел будет добавляться к уже подсчитанной сумме."
   ]
  },
  {
   "cell_type": "code",
   "execution_count": 158,
   "id": "7d4ef7a5",
   "metadata": {
    "ExecuteTime": {
     "end_time": "2022-11-03T19:12:57.614942Z",
     "start_time": "2022-11-03T19:12:22.578095Z"
    }
   },
   "outputs": [
    {
     "name": "stdout",
     "output_type": "stream",
     "text": [
      "Are we going to enter numbers? Enter Y/N  y\n",
      "Enter the numbers separated by a space:  1 2 3.5\n",
      "6.5\n",
      "Are we going to enter numbers? Enter Y/N  y\n",
      "Enter the numbers separated by a space:  4 5 6 7.9\n",
      "29.4\n",
      "Are we going to enter numbers? Enter Y/N  n\n",
      "Sum = 29.4, end\n"
     ]
    }
   ],
   "source": [
    "control = 'y'\n",
    "n = 0\n",
    "result = 0\n",
    "\n",
    "while control == 'y':\n",
    "    \n",
    "    control = input('Are we going to enter numbers? Enter Y/N  ',).lower()\n",
    "    \n",
    "    if control == 'y':\n",
    "        \n",
    "        n = input('Enter the numbers separated by a space:  ',)\n",
    "        \n",
    "        s = list(n.split(' '))\n",
    "\n",
    "        result = result + sum(list(map(float, s)))\n",
    "\n",
    "        print(result)\n",
    "\n",
    "    else:\n",
    "        \n",
    "        print(f\"Sum = {result}, end\")\n",
    "        \n",
    "        break"
   ]
  },
  {
   "cell_type": "markdown",
   "id": "f6249e9b",
   "metadata": {},
   "source": [
    "6. Реализовать функцию int_func(), принимающую слова из маленьких латинских букв и возвращающую их же, но с прописной первой буквой. Например, print(int_func(‘text’)) -> Text."
   ]
  },
  {
   "cell_type": "code",
   "execution_count": 163,
   "id": "1344b000",
   "metadata": {
    "ExecuteTime": {
     "end_time": "2022-11-03T19:27:59.154489Z",
     "start_time": "2022-11-03T19:27:59.139463Z"
    }
   },
   "outputs": [],
   "source": [
    "def int_func(w):\n",
    "    \n",
    "    w = w.capitalize()\n",
    "    \n",
    "    "
   ]
  },
  {
   "cell_type": "code",
   "execution_count": 164,
   "id": "d3adf52a",
   "metadata": {
    "ExecuteTime": {
     "end_time": "2022-11-03T19:28:00.803958Z",
     "start_time": "2022-11-03T19:28:00.783597Z"
    }
   },
   "outputs": [
    {
     "ename": "NameError",
     "evalue": "name 'text' is not defined",
     "output_type": "error",
     "traceback": [
      "\u001b[1;31m---------------------------------------------------------------------------\u001b[0m",
      "\u001b[1;31mNameError\u001b[0m                                 Traceback (most recent call last)",
      "Input \u001b[1;32mIn [164]\u001b[0m, in \u001b[0;36m<cell line: 1>\u001b[1;34m()\u001b[0m\n\u001b[1;32m----> 1\u001b[0m \u001b[38;5;28mprint\u001b[39m(int_func(\u001b[43mtext\u001b[49m))\n",
      "\u001b[1;31mNameError\u001b[0m: name 'text' is not defined"
     ]
    }
   ],
   "source": [
    "print(int_func(text))"
   ]
  },
  {
   "cell_type": "code",
   "execution_count": null,
   "id": "a15a3088",
   "metadata": {},
   "outputs": [],
   "source": []
  }
 ],
 "metadata": {
  "kernelspec": {
   "display_name": "Python 3 (ipykernel)",
   "language": "python",
   "name": "python3"
  },
  "language_info": {
   "codemirror_mode": {
    "name": "ipython",
    "version": 3
   },
   "file_extension": ".py",
   "mimetype": "text/x-python",
   "name": "python",
   "nbconvert_exporter": "python",
   "pygments_lexer": "ipython3",
   "version": "3.9.12"
  },
  "varInspector": {
   "cols": {
    "lenName": 16,
    "lenType": 16,
    "lenVar": 40
   },
   "kernels_config": {
    "python": {
     "delete_cmd_postfix": "",
     "delete_cmd_prefix": "del ",
     "library": "var_list.py",
     "varRefreshCmd": "print(var_dic_list())"
    },
    "r": {
     "delete_cmd_postfix": ") ",
     "delete_cmd_prefix": "rm(",
     "library": "var_list.r",
     "varRefreshCmd": "cat(var_dic_list()) "
    }
   },
   "types_to_exclude": [
    "module",
    "function",
    "builtin_function_or_method",
    "instance",
    "_Feature"
   ],
   "window_display": false
  }
 },
 "nbformat": 4,
 "nbformat_minor": 5
}
