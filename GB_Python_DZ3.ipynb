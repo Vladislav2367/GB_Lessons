{
 "cells": [
  {
   "cell_type": "markdown",
   "id": "aa5e58f3",
   "metadata": {},
   "source": [
    "# GB_Python_DZ3"
   ]
  },
  {
   "cell_type": "markdown",
   "id": "5d129bcf",
   "metadata": {},
   "source": [
    "1. Реализовать функцию, принимающую два числа (позиционные аргументы) и выполняющую их деление. Числа запрашивать у пользователя, предусмотреть обработку ситуации деления на ноль."
   ]
  },
  {
   "cell_type": "code",
   "execution_count": null,
   "id": "4a006c7b",
   "metadata": {
    "ExecuteTime": {
     "end_time": "2022-10-18T07:51:01.251694Z",
     "start_time": "2022-10-18T07:51:01.238391Z"
    }
   },
   "outputs": [],
   "source": [
    "def diff( a, b):\n",
    "    try:\n",
    "        k = a / b\n",
    "    except ZeroDivisionError:\n",
    "        k = \"Can 't be divided\"\n",
    "    print(f\"{a} / {b} = {k}\")        "
   ]
  },
  {
   "cell_type": "code",
   "execution_count": null,
   "id": "e555797b",
   "metadata": {
    "ExecuteTime": {
     "end_time": "2022-10-18T07:51:16.274630Z",
     "start_time": "2022-10-18T07:51:03.987340Z"
    }
   },
   "outputs": [],
   "source": [
    "a = float(input(\"Enter variables 'a = '\",))\n",
    "b = float(input(\"Enter variables 'b = '\",))\n",
    "diff(a,b)"
   ]
  },
  {
   "cell_type": "markdown",
   "id": "b2ccb33b",
   "metadata": {},
   "source": [
    "2. Выполнить функцию, которая принимает несколько параметров, описывающих данные пользователя: имя, фамилия, год рождения, город проживания, email, телефон. Функция должна принимать параметры как именованные аргументы. Осуществить вывод данных о пользователе одной строкой."
   ]
  },
  {
   "cell_type": "code",
   "execution_count": 9,
   "id": "e68098d7",
   "metadata": {
    "ExecuteTime": {
     "end_time": "2022-10-18T16:52:51.539109Z",
     "start_time": "2022-10-18T16:52:51.528027Z"
    }
   },
   "outputs": [],
   "source": [
    "inf = {}\n",
    "fname = []\n",
    "lname = []\n",
    "year = []\n",
    "city = []\n",
    "email = []\n",
    "phone = []    \n",
    "def user():\n",
    "    input(fname, lname, year, city, email, phone)\n",
    "   # user = input(fname, lname, year, city, email, phone)\n",
    "    fname = fname.append[f\"first name{user[fname]}\"]\n",
    "    lname = lname.append[f\"last name{user[lname]}\"] \n",
    "    year = year.append[f\"year{user[year]}\"] \n",
    "    city = city.append[f\"city{user[city]}\"]\n",
    "    email = email.append[f\"email{user[email]}\"]\n",
    "    phone = phone.append[f\"cphone{user[phone]}\"]\n",
    "    print(f\"first name{user[fname]} {user[lname]} {year}, {city}, {email}, {phone}\")"
   ]
  },
  {
   "cell_type": "code",
   "execution_count": 10,
   "id": "fba4c29b",
   "metadata": {
    "ExecuteTime": {
     "end_time": "2022-10-18T16:52:52.870521Z",
     "start_time": "2022-10-18T16:52:52.854573Z"
    }
   },
   "outputs": [
    {
     "ename": "SyntaxError",
     "evalue": "invalid syntax (1798061595.py, line 1)",
     "output_type": "error",
     "traceback": [
      "\u001b[1;36m  Input \u001b[1;32mIn [10]\u001b[1;36m\u001b[0m\n\u001b[1;33m    def my_memor(Input(fname, lname, year, city, email, phone)):\u001b[0m\n\u001b[1;37m                      ^\u001b[0m\n\u001b[1;31mSyntaxError\u001b[0m\u001b[1;31m:\u001b[0m invalid syntax\n"
     ]
    }
   ],
   "source": [
    "def my_memor(Input(fname, lname, year, city, email, phone)):"
   ]
  },
  {
   "cell_type": "code",
   "execution_count": null,
   "id": "6a6d3a5e",
   "metadata": {},
   "outputs": [],
   "source": []
  }
 ],
 "metadata": {
  "kernelspec": {
   "display_name": "Python 3 (ipykernel)",
   "language": "python",
   "name": "python3"
  },
  "language_info": {
   "codemirror_mode": {
    "name": "ipython",
    "version": 3
   },
   "file_extension": ".py",
   "mimetype": "text/x-python",
   "name": "python",
   "nbconvert_exporter": "python",
   "pygments_lexer": "ipython3",
   "version": "3.9.12"
  },
  "varInspector": {
   "cols": {
    "lenName": 16,
    "lenType": 16,
    "lenVar": 40
   },
   "kernels_config": {
    "python": {
     "delete_cmd_postfix": "",
     "delete_cmd_prefix": "del ",
     "library": "var_list.py",
     "varRefreshCmd": "print(var_dic_list())"
    },
    "r": {
     "delete_cmd_postfix": ") ",
     "delete_cmd_prefix": "rm(",
     "library": "var_list.r",
     "varRefreshCmd": "cat(var_dic_list()) "
    }
   },
   "types_to_exclude": [
    "module",
    "function",
    "builtin_function_or_method",
    "instance",
    "_Feature"
   ],
   "window_display": false
  }
 },
 "nbformat": 4,
 "nbformat_minor": 5
}
